{
 "cells": [
 
  {
   "cell_type": "code",
   "execution_count": 224,
   "id": "quick-photographer",
   "metadata": {},
   "outputs": [],
   "source": [
    "from pyspark.sql import SparkSession\n",
    "from pyspark.conf import SparkConf\n",
    "\n",
    "spark=SparkSession.builder\\\n",
    "    .master(\"local[*]\")\\\n",
    "    .appName(\"MillionSongSubSet\")\\\n",
    "    .getOrCreate()\n",
    "\n",
    "sc=spark.sparkContext"
   ]
  },
  {
   "cell_type": "markdown",
   "id": "married-moderator",
   "metadata": {},
   "source": [
    "## Reading csv file as RDD"
   ]
  },
  {
   "cell_type": "code",
   "execution_count": 314,
   "id": "secondary-flavor",
   "metadata": {},
   "outputs": [],
   "source": [
    "rdd_data = spark.read.csv(\"sampledataMS.csv\", sep=\",\", escape='\"', multiLine=False,\n",
    "     inferSchema=False, header=True)"
   ]
  },
  {
   "cell_type": "code",
   "execution_count": 315,
   "id": "blond-tutorial",
   "metadata": {},
   "outputs": [],
   "source": [
    "rdd_data = rdd_data.rdd"
   ]
  },
  {
   "cell_type": "code",
   "execution_count": 348,
   "id": "complete-mineral",
   "metadata": {
    "scrolled": true
   },
   "outputs": [
    {
     "data": {
      "text/plain": [
       "[Row(analysis_sample_rate='22050', audio_md5='af86941e0f2094ce0788670bc25fcb27', danceability='0.0', duration='253.04771', end_of_fade_in='0.061', energy='0.0', idx_bars_confidence='0', idx_bars_start='0', idx_beats_confidence='0', idx_beats_start='0', idx_sections_confidence='0', idx_sections_start='0', idx_segments_confidence='0', idx_segments_loudness_max='0', idx_segments_loudness_max_time='0', idx_segments_loudness_start='0', idx_segments_pitches='0', idx_segments_start='0', idx_segments_timbre='0', idx_tatums_confidence='0', idx_tatums_start='0', key='11', key_confidence='0.614', loudness='-13.54', mode='0', mode_confidence='0.674', start_of_fade_out='245.69', tempo='109.997', time_signature='4', time_signature_confidence='0.822', track_id='TRAKKPN12903CF7C4D', analyzer_version=None, artist_7digitalid='191898', artist_familiarity='0.5030023057537399', artist_hotttnesss='0.0', artist_id='ARZIKR01187B98DF08', artist_latitude=None, artist_location=None, artist_longitude=None, artist_mbid='ce48dd78-903e-4737-aee7-5e70bba7e15d', artist_name='Joe Grushecky', artist_playmeid='-1', genre=None, idx_artist_terms='0', idx_similar_artists='0', release='Outtakes and Demos 1975 -  2003', release_7digitalid='603118', song_hotttnesss=None, song_id='SONRFCO12AC3DF6AFB', title=\"A Fool's Advice\", track_7digitalid='6699617', idx_artist_mbtags='0', year='0')]"
      ]
     },
     "execution_count": 348,
     "metadata": {},
     "output_type": "execute_result"
    }
   ],
   "source": [
    "rdd_data.take(1)"
   ]
  },
  {
   "cell_type": "markdown",
   "id": "progressive-honduras",
   "metadata": {},
   "source": [
    "## Word count on Song Titles"
   ]
  },
  {
   "cell_type": "markdown",
   "id": "collect-stock",
   "metadata": {},
   "source": [
    "Cleaning punctuation and converting to lower case for normalization of the data."
   ]
  },
  {
   "cell_type": "code",
   "execution_count": null,
   "id": "enormous-supplier",
   "metadata": {},
   "outputs": [],
   "source": [
    "def lower_clean_str(x):\n",
    "  punc='!\"#$%&\\'()*+,./:;<=>?@[\\\\]^_`{|}~-'\n",
    "  lowercased_str = x.lower()\n",
    "    for ch in punc:\n",
    "    lowercased_str = lowercased_str.replace(ch, '')\n",
    "    return lowercased_str"
   ]
  },
  {
   "cell_type": "markdown",
   "id": "cutting-atmosphere",
   "metadata": {},
   "source": [
    "Word Counting process by using RDD commands on our dataset such as: <b> Map, FlatMap, Key/Value pairs, reduceByKey, SortBy, Filter and Lambda operation."
   ]
  },
  {
   "cell_type": "code",
   "execution_count": 367,
   "id": "offensive-processor",
   "metadata": {},
   "outputs": [
    {
     "data": {
      "text/plain": [
       "[('the', 1296),\n",
       " ('version', 773),\n",
       " ('you', 495),\n",
       " ('album', 466),\n",
       " ('of', 448),\n",
       " ('a', 437),\n",
       " ('in', 409),\n",
       " ('i', 392),\n",
       " ('me', 349),\n",
       " ('love', 323)]"
      ]
     },
     "execution_count": 367,
     "metadata": {},
     "output_type": "execute_result"
    }
   ],
   "source": [
    "rdd_data_wc = rdd_data.map(lambda x: x[\"title\"]) #mapping song titles from the dataset\n",
    "rdd_data_wc = rdd_data_wc.filter(lambda x:'' if x is None else x) #filtering the titles which are not blank\n",
    "rdd_data_wc = rdd_data_wc.flatMap(lambda x: x.split(\" \")) #splitting words with flatmap\n",
    "rdd_data_wc = rdd_data_wc.map(lambda x: (lower_clean_str(x),1)).filter(lambda x: x[0] != '') #applying \"lower_clean_str\" function\n",
    "rdd_data_wc_count = rdd_data_wc.reduceByKey(lambda x,y:(x+y)) #reducing mapped words\n",
    "rdd_data_wc_count_result = rdd_data_wc_count.sortBy(lambda x : x[1], ascending=False) #sorting the count of words by descending order\n",
    "rdd_data_wc_count_result.take(10)"
   ]
  },
  {
   "cell_type": "markdown",
   "id": "german-central",
   "metadata": {},
   "source": [
    "## Counting  The Songs by Release Year"
   ]
  },
  {
   "cell_type": "markdown",
   "id": "royal-article",
   "metadata": {},
   "source": [
    "Counting year by using RDD commands on our dataset such as: <b> Map, Key/Value pairs, reduceByKey, SortBy, Filter and Lambda operation."
   ]
  },
  {
   "cell_type": "code",
   "execution_count": 366,
   "id": "foster-participant",
   "metadata": {},
   "outputs": [
    {
     "data": {
      "text/plain": [
       "[('2006', 320),\n",
       " ('2005', 304),\n",
       " ('2007', 285),\n",
       " ('2004', 270),\n",
       " ('2003', 254),\n",
       " ('2008', 253),\n",
       " ('2009', 250),\n",
       " ('2001', 217),\n",
       " ('2002', 198),\n",
       " ('2000', 192)]"
      ]
     },
     "execution_count": 366,
     "metadata": {},
     "output_type": "execute_result"
    }
   ],
   "source": [
    "rdd_data_year = rdd_data.map(lambda x: x[\"year\"]) #mapping release year from the dataset\n",
    "rdd_data_year = rdd_data_year.filter(lambda x: x != \"0\") #filtering the year has 0 value\n",
    "rdd_data_year = rdd_data_year.map(lambda x: (x,1)) #mapping the year by key-value pairs\n",
    "rdd_data_year_count = rdd_data_year.reduceByKey(lambda x,y:(x+y)) #reducing mapped the years for counting process\n",
    "rdd_data_year_count_result = rdd_data_year_count.sortBy(lambda x : x[1], ascending=False) #sorting the count of release year by descending order\n",
    "rdd_data_year_count_result.take(10)"
   ]
  }
 ],
 "metadata": {
  "kernelspec": {
   "display_name": "Python 3",
   "language": "python",
   "name": "python3"
  },
  "language_info": {
   "codemirror_mode": {
    "name": "ipython",
    "version": 3
   },
   "file_extension": ".py",
   "mimetype": "text/x-python",
   "name": "python",
   "nbconvert_exporter": "python",
   "pygments_lexer": "ipython3",
   "version": "3.8.6"
  }
 },
 "nbformat": 4,
 "nbformat_minor": 5
}
